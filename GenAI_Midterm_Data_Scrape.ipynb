{
  "cells": [
    {
      "cell_type": "markdown",
      "metadata": {
        "id": "U8FSjazmjHlv"
      },
      "source": [
        "# Web Scraping the UChicago MSADS Website"
      ]
    },
    {
      "cell_type": "markdown",
      "metadata": {},
      "source": [
        "Disclaimer: I used ChatGPT for some parts and marked prompts where I used it."
      ]
    },
    {
      "cell_type": "markdown",
      "metadata": {
        "id": "8vDoCiX6jSiD"
      },
      "source": [
        "## Libraries"
      ]
    },
    {
      "cell_type": "code",
      "execution_count": 1,
      "metadata": {
        "colab": {
          "base_uri": "https://localhost:8080/"
        },
        "id": "rfJwu21eiSSf",
        "outputId": "21eeebf3-dd45-49c8-997d-6f7cd8edbd8c"
      },
      "outputs": [
        {
          "name": "stdout",
          "output_type": "stream",
          "text": [
            "Requirement already satisfied: requests in /usr/local/lib/python3.11/dist-packages (2.32.3)\n",
            "Requirement already satisfied: beautifulsoup4 in /usr/local/lib/python3.11/dist-packages (4.13.4)\n",
            "Requirement already satisfied: tqdm in /usr/local/lib/python3.11/dist-packages (4.67.1)\n",
            "Requirement already satisfied: charset-normalizer<4,>=2 in /usr/local/lib/python3.11/dist-packages (from requests) (3.4.2)\n",
            "Requirement already satisfied: idna<4,>=2.5 in /usr/local/lib/python3.11/dist-packages (from requests) (3.10)\n",
            "Requirement already satisfied: urllib3<3,>=1.21.1 in /usr/local/lib/python3.11/dist-packages (from requests) (2.5.0)\n",
            "Requirement already satisfied: certifi>=2017.4.17 in /usr/local/lib/python3.11/dist-packages (from requests) (2025.8.3)\n",
            "Requirement already satisfied: soupsieve>1.2 in /usr/local/lib/python3.11/dist-packages (from beautifulsoup4) (2.7)\n",
            "Requirement already satisfied: typing-extensions>=4.0.0 in /usr/local/lib/python3.11/dist-packages (from beautifulsoup4) (4.14.1)\n"
          ]
        }
      ],
      "source": [
        "!pip install requests beautifulsoup4 tqdm"
      ]
    },
    {
      "cell_type": "code",
      "execution_count": 2,
      "metadata": {
        "id": "kstEo5oyjUz0"
      },
      "outputs": [],
      "source": [
        "import requests\n",
        "from bs4 import BeautifulSoup\n",
        "from urllib.parse import urljoin, urlparse\n",
        "from tqdm import tqdm\n",
        "import json\n",
        "import os"
      ]
    },
    {
      "cell_type": "markdown",
      "metadata": {
        "id": "ZDfJQ-kyjYL6"
      },
      "source": [
        "## Scraping"
      ]
    },
    {
      "cell_type": "markdown",
      "metadata": {},
      "source": [
        "AI prompt: \"I want to scrape a web page starting from the home directory (give url) and I want to scrape all embedded links as well. How can I do this?\""
      ]
    },
    {
      "cell_type": "code",
      "execution_count": 3,
      "metadata": {
        "id": "Pv8YYWRPjZJD"
      },
      "outputs": [],
      "source": [
        "# Main page URL\n",
        "BASE_URL = \"https://datascience.uchicago.edu/education/masters-programs/ms-in-applied-data-science/\"\n",
        "\n",
        "# Headers to simulate a browser visit\n",
        "HEADERS = {\n",
        "    \"User-Agent\": \"Mozilla/5.0 (Windows NT 10.0; Win64; x64) AppleWebKit/537.36 (KHTML, like Gecko) Chrome/115.0.0.0 Safari/537.36\"\n",
        "}"
      ]
    },
    {
      "cell_type": "code",
      "execution_count": 4,
      "metadata": {
        "id": "0letO3fKj3Iu"
      },
      "outputs": [],
      "source": [
        "# Get all internal links from a soup object\n",
        "def get_internal_links(soup, base_url):\n",
        "    internal_links = set()\n",
        "    for a_tag in soup.find_all(\"a\", href=True):\n",
        "        href = a_tag[\"href\"]\n",
        "        full_url = urljoin(base_url, href)\n",
        "        parsed_url = urlparse(full_url)\n",
        "        base_domain = urlparse(base_url).netloc\n",
        "\n",
        "        if parsed_url.netloc == base_domain and \"mailto\" not in href and \"#\" not in href:\n",
        "            internal_links.add(full_url)\n",
        "    return internal_links"
      ]
    },
    {
      "cell_type": "code",
      "execution_count": 5,
      "metadata": {
        "id": "k7Z-6JgGj4CC"
      },
      "outputs": [],
      "source": [
        "# Extract clean text from a given URL\n",
        "def extract_text_from_url(url):\n",
        "    try:\n",
        "        response = requests.get(url, headers=HEADERS, timeout=10)\n",
        "        if response.status_code != 200:\n",
        "            return None\n",
        "        soup = BeautifulSoup(response.text, \"html.parser\")\n",
        "\n",
        "        # Remove unwanted tags\n",
        "        for tag in soup([\"script\", \"style\", \"noscript\"]):\n",
        "            tag.decompose()\n",
        "\n",
        "        # Extract text content\n",
        "        text = soup.get_text(separator=\" \", strip=True)\n",
        "        return text\n",
        "    except Exception as e:\n",
        "        print(f\"Failed to process {url}: {e}\")\n",
        "        return None"
      ]
    },
    {
      "cell_type": "code",
      "execution_count": 6,
      "metadata": {
        "id": "md0ftV9Lj-nC"
      },
      "outputs": [],
      "source": [
        "# Main scraping function\n",
        "def scrape_site(base_url):\n",
        "    scraped_data = {}\n",
        "\n",
        "    print(\"🔎 Fetching main page...\")\n",
        "    response = requests.get(base_url, headers=HEADERS)\n",
        "    soup = BeautifulSoup(response.text, \"html.parser\")\n",
        "\n",
        "    internal_links = get_internal_links(soup, base_url)\n",
        "    internal_links.add(base_url)  # Include main page\n",
        "\n",
        "    print(f\"📄 Found {len(internal_links)} internal pages to scrape...\\n\")\n",
        "\n",
        "    for url in tqdm(internal_links):\n",
        "        page_text = extract_text_from_url(url)\n",
        "        if page_text:\n",
        "            scraped_data[url] = page_text\n",
        "\n",
        "    return scraped_data\n"
      ]
    },
    {
      "cell_type": "code",
      "execution_count": 7,
      "metadata": {
        "colab": {
          "base_uri": "https://localhost:8080/"
        },
        "id": "IgM_bwsDkAaN",
        "outputId": "dba0a49a-a2c3-486f-a51a-b972d8776d32"
      },
      "outputs": [
        {
          "name": "stdout",
          "output_type": "stream",
          "text": [
            "🔎 Fetching main page...\n",
            "📄 Found 66 internal pages to scrape...\n",
            "\n"
          ]
        },
        {
          "name": "stderr",
          "output_type": "stream",
          "text": [
            "100%|██████████| 66/66 [00:24<00:00,  2.67it/s]\n"
          ]
        }
      ],
      "source": [
        "# scraping run\n",
        "scraped_data = scrape_site(BASE_URL)"
      ]
    },
    {
      "cell_type": "code",
      "execution_count": 10,
      "metadata": {
        "colab": {
          "base_uri": "https://localhost:8080/"
        },
        "id": "hf9xZ7M8kCMH",
        "outputId": "7c738509-f72b-4844-b690-e7d3829f6e34"
      },
      "outputs": [
        {
          "name": "stdout",
          "output_type": "stream",
          "text": [
            "URL: https://datascience.uchicago.edu/news/can-a-doctors-notes-reveal-when-theyre-tired-new-research-illuminates-the-hidden-signals-of-physician-fatigue-and-raises-questions-about-ai-in-healthcare/\n",
            "Content Preview:\n",
            "Can a Doctor’s Notes Reveal When They’re Tired? New Research Illuminates the Hidden Signals of Physician Fatigue—And Raises Questions About AI in Healthcare – DSI Skip to main content About About the Data Science Institute The Data Science Institute (DSI) executes the University of Chicago’s bold, innovative vision of Data Science as a new discipline. Jobs & Opportunities Open faculty, postdoctoral, staff, and student roles with the UChicago Data Science Institute and our partners. Visiting DSI ...\n",
            "--------------------------------------------------------------------------------\n",
            "\n",
            "URL: https://datascience.uchicago.edu/outreach/\n",
            "Content Preview:\n",
            "Outreach – DSI Skip to main content About About the Data Science Institute The Data Science Institute (DSI) executes the University of Chicago’s bold, innovative vision of Data Science as a new discipline. Jobs & Opportunities Open faculty, postdoctoral, staff, and student roles with the UChicago Data Science Institute and our partners. Visiting DSI @ UChicago Contact Research Initiatives AI + Science A new paradigm of transformational AI-enabled scientific discovery across the physical and biol...\n",
            "--------------------------------------------------------------------------------\n",
            "\n",
            "URL: https://datascience.uchicago.edu/insights/novel-intelligence-faculty-co-director-james-evans-explore-ethics-for-a-world-of-ai-agents-in-nature-essay/\n",
            "Content Preview:\n",
            "Novel Intelligence Faculty Co-Director James Evans Explores Ethics for a World of AI Agents in Nature Essay – DSI Skip to main content About About the Data Science Institute The Data Science Institute (DSI) executes the University of Chicago’s bold, innovative vision of Data Science as a new discipline. Jobs & Opportunities Open faculty, postdoctoral, staff, and student roles with the UChicago Data Science Institute and our partners. Visiting DSI @ UChicago Contact Research Initiatives AI + Scie...\n",
            "--------------------------------------------------------------------------------\n",
            "\n",
            "URL: https://datascience.uchicago.edu/outreach/11th-hour-project/\n",
            "Content Preview:\n",
            "11th Hour Project Software and Data Hub – DSI Skip to main content About About the Data Science Institute The Data Science Institute (DSI) executes the University of Chicago’s bold, innovative vision of Data Science as a new discipline. Jobs & Opportunities Open faculty, postdoctoral, staff, and student roles with the UChicago Data Science Institute and our partners. Visiting DSI @ UChicago Contact Research Initiatives AI + Science A new paradigm of transformational AI-enabled scientific discove...\n",
            "--------------------------------------------------------------------------------\n",
            "\n",
            "URL: https://datascience.uchicago.edu/events/ask-a-student-information-session-online-student/\n",
            "Content Preview:\n",
            "Ask A Student Information Session (Online Student) – DSI Skip to main content About About the Data Science Institute The Data Science Institute (DSI) executes the University of Chicago’s bold, innovative vision of Data Science as a new discipline. Jobs & Opportunities Open faculty, postdoctoral, staff, and student roles with the UChicago Data Science Institute and our partners. Visiting DSI @ UChicago Contact Research Initiatives AI + Science A new paradigm of transformational AI-enabled scienti...\n",
            "--------------------------------------------------------------------------------\n",
            "\n",
            "URL: https://datascience.uchicago.edu/research/data-ecology/\n",
            "Content Preview:\n",
            "Data Ecology – DSI Skip to main content About About the Data Science Institute The Data Science Institute (DSI) executes the University of Chicago’s bold, innovative vision of Data Science as a new discipline. Jobs & Opportunities Open faculty, postdoctoral, staff, and student roles with the UChicago Data Science Institute and our partners. Visiting DSI @ UChicago Contact Research Initiatives AI + Science A new paradigm of transformational AI-enabled scientific discovery across the physical and ...\n",
            "--------------------------------------------------------------------------------\n",
            "\n",
            "URL: https://datascience.uchicago.edu/news/2025-midwest-machine-learning-symposium-demonstrates-regional-excellence/\n",
            "Content Preview:\n",
            "2025 Midwest Machine Learning Symposium Demonstrates Regional Excellence – DSI Skip to main content About About the Data Science Institute The Data Science Institute (DSI) executes the University of Chicago’s bold, innovative vision of Data Science as a new discipline. Jobs & Opportunities Open faculty, postdoctoral, staff, and student roles with the UChicago Data Science Institute and our partners. Visiting DSI @ UChicago Contact Research Initiatives AI + Science A new paradigm of transformatio...\n",
            "--------------------------------------------------------------------------------\n",
            "\n",
            "URL: https://datascience.uchicago.edu/newsletter-archive/\n",
            "Content Preview:\n",
            "Newsletter Archive – DSI Skip to main content About About the Data Science Institute The Data Science Institute (DSI) executes the University of Chicago’s bold, innovative vision of Data Science as a new discipline. Jobs & Opportunities Open faculty, postdoctoral, staff, and student roles with the UChicago Data Science Institute and our partners. Visiting DSI @ UChicago Contact Research Initiatives AI + Science A new paradigm of transformational AI-enabled scientific discovery across the physica...\n",
            "--------------------------------------------------------------------------------\n",
            "\n",
            "URL: https://datascience.uchicago.edu/education/data-science-clinic/\n",
            "Content Preview:\n",
            "Data Science Clinic – DSI Skip to main content About About the Data Science Institute The Data Science Institute (DSI) executes the University of Chicago’s bold, innovative vision of Data Science as a new discipline. Jobs & Opportunities Open faculty, postdoctoral, staff, and student roles with the UChicago Data Science Institute and our partners. Visiting DSI @ UChicago Contact Research Initiatives AI + Science A new paradigm of transformational AI-enabled scientific discovery across the physic...\n",
            "--------------------------------------------------------------------------------\n",
            "\n",
            "URL: https://datascience.uchicago.edu/nondiscrimination-statement/\n",
            "Content Preview:\n",
            "Nondiscrimination Statement – DSI Skip to main content About About the Data Science Institute The Data Science Institute (DSI) executes the University of Chicago’s bold, innovative vision of Data Science as a new discipline. Jobs & Opportunities Open faculty, postdoctoral, staff, and student roles with the UChicago Data Science Institute and our partners. Visiting DSI @ UChicago Contact Research Initiatives AI + Science A new paradigm of transformational AI-enabled scientific discovery across th...\n",
            "--------------------------------------------------------------------------------\n",
            "\n",
            "URL: https://datascience.uchicago.edu/research/\n",
            "Content Preview:\n",
            "Research – DSI Skip to main content About About the Data Science Institute The Data Science Institute (DSI) executes the University of Chicago’s bold, innovative vision of Data Science as a new discipline. Jobs & Opportunities Open faculty, postdoctoral, staff, and student roles with the UChicago Data Science Institute and our partners. Visiting DSI @ UChicago Contact Research Initiatives AI + Science A new paradigm of transformational AI-enabled scientific discovery across the physical and biol...\n",
            "--------------------------------------------------------------------------------\n",
            "\n",
            "URL: https://datascience.uchicago.edu/insights/uchicagos-ai-for-climate-initiative-leads-new-approach-to-modeling-and-understanding-earth-system/\n",
            "Content Preview:\n",
            "UChicago’s AI for Climate Initiative Leads New Approach to Modeling and Understanding Earth System – DSI Skip to main content About About the Data Science Institute The Data Science Institute (DSI) executes the University of Chicago’s bold, innovative vision of Data Science as a new discipline. Jobs & Opportunities Open faculty, postdoctoral, staff, and student roles with the UChicago Data Science Institute and our partners. Visiting DSI @ UChicago Contact Research Initiatives AI + Science A new...\n",
            "--------------------------------------------------------------------------------\n",
            "\n",
            "URL: https://datascience.uchicago.edu/news/introducing-a-new-2-year-thesis-track-for-the-ms-in-applied-data-science-program/\n",
            "Content Preview:\n",
            "Introducing a New 2-Year Thesis Track for the MS in Applied Data Science Program – DSI Skip to main content About About the Data Science Institute The Data Science Institute (DSI) executes the University of Chicago’s bold, innovative vision of Data Science as a new discipline. Jobs & Opportunities Open faculty, postdoctoral, staff, and student roles with the UChicago Data Science Institute and our partners. Visiting DSI @ UChicago Contact Research Initiatives AI + Science A new paradigm of trans...\n",
            "--------------------------------------------------------------------------------\n",
            "\n",
            "URL: https://datascience.uchicago.edu/about/visiting-dsi/\n",
            "Content Preview:\n",
            "Visiting DSI – DSI Skip to main content About About the Data Science Institute The Data Science Institute (DSI) executes the University of Chicago’s bold, innovative vision of Data Science as a new discipline. Jobs & Opportunities Open faculty, postdoctoral, staff, and student roles with the UChicago Data Science Institute and our partners. Visiting DSI @ UChicago Contact Research Initiatives AI + Science A new paradigm of transformational AI-enabled scientific discovery across the physical and ...\n",
            "--------------------------------------------------------------------------------\n",
            "\n",
            "URL: https://datascience.uchicago.edu/education/masters-programs/ms-in-applied-data-science/in-person-program/\n",
            "Content Preview:\n",
            "In-Person Program – DSI Skip to main content About About the Data Science Institute The Data Science Institute (DSI) executes the University of Chicago’s bold, innovative vision of Data Science as a new discipline. Jobs & Opportunities Open faculty, postdoctoral, staff, and student roles with the UChicago Data Science Institute and our partners. Visiting DSI @ UChicago Contact Research Initiatives AI + Science A new paradigm of transformational AI-enabled scientific discovery across the physical...\n",
            "--------------------------------------------------------------------------------\n",
            "\n",
            "URL: https://datascience.uchicago.edu/news/uchicago-ms-ads-students-present-capstone-project-at-midwest-ml-symposium/\n",
            "Content Preview:\n",
            "UChicago MS-ADS Students Present Capstone Project at Midwest ML Symposium – DSI Skip to main content About About the Data Science Institute The Data Science Institute (DSI) executes the University of Chicago’s bold, innovative vision of Data Science as a new discipline. Jobs & Opportunities Open faculty, postdoctoral, staff, and student roles with the UChicago Data Science Institute and our partners. Visiting DSI @ UChicago Contact Research Initiatives AI + Science A new paradigm of transformati...\n",
            "--------------------------------------------------------------------------------\n",
            "\n",
            "URL: https://datascience.uchicago.edu/research/internet-innovation/\n",
            "Content Preview:\n",
            "Internet Innovation – DSI Skip to main content About About the Data Science Institute The Data Science Institute (DSI) executes the University of Chicago’s bold, innovative vision of Data Science as a new discipline. Jobs & Opportunities Open faculty, postdoctoral, staff, and student roles with the UChicago Data Science Institute and our partners. Visiting DSI @ UChicago Contact Research Initiatives AI + Science A new paradigm of transformational AI-enabled scientific discovery across the physic...\n",
            "--------------------------------------------------------------------------------\n",
            "\n",
            "URL: https://datascience.uchicago.edu/events/info-session-rising-stars-in-data-science-workshop/\n",
            "Content Preview:\n",
            "Info Session: Rising Stars in Data Science Workshop – DSI Skip to main content About About the Data Science Institute The Data Science Institute (DSI) executes the University of Chicago’s bold, innovative vision of Data Science as a new discipline. Jobs & Opportunities Open faculty, postdoctoral, staff, and student roles with the UChicago Data Science Institute and our partners. Visiting DSI @ UChicago Contact Research Initiatives AI + Science A new paradigm of transformational AI-enabled scient...\n",
            "--------------------------------------------------------------------------------\n",
            "\n",
            "URL: https://datascience.uchicago.edu/research/open-spatial-lab/\n",
            "Content Preview:\n",
            "Open Spatial Lab – DSI Skip to main content About About the Data Science Institute The Data Science Institute (DSI) executes the University of Chicago’s bold, innovative vision of Data Science as a new discipline. Jobs & Opportunities Open faculty, postdoctoral, staff, and student roles with the UChicago Data Science Institute and our partners. Visiting DSI @ UChicago Contact Research Initiatives AI + Science A new paradigm of transformational AI-enabled scientific discovery across the physical ...\n",
            "--------------------------------------------------------------------------------\n",
            "\n",
            "URL: https://datascience.uchicago.edu/about/leadership-staff/\n",
            "Content Preview:\n",
            "Faculty, Leadership, & Staff – DSI Skip to main content About About the Data Science Institute The Data Science Institute (DSI) executes the University of Chicago’s bold, innovative vision of Data Science as a new discipline. Jobs & Opportunities Open faculty, postdoctoral, staff, and student roles with the UChicago Data Science Institute and our partners. Visiting DSI @ UChicago Contact Research Initiatives AI + Science A new paradigm of transformational AI-enabled scientific discovery across t...\n",
            "--------------------------------------------------------------------------------\n",
            "\n",
            "URL: https://datascience.uchicago.edu/about/jobs/\n",
            "Content Preview:\n",
            "Jobs & Opportunities – DSI Skip to main content About About the Data Science Institute The Data Science Institute (DSI) executes the University of Chicago’s bold, innovative vision of Data Science as a new discipline. Jobs & Opportunities Open faculty, postdoctoral, staff, and student roles with the UChicago Data Science Institute and our partners. Visiting DSI @ UChicago Contact Research Initiatives AI + Science A new paradigm of transformational AI-enabled scientific discovery across the physi...\n",
            "--------------------------------------------------------------------------------\n",
            "\n",
            "URL: https://datascience.uchicago.edu/events/ms-in-applied-data-science-information-session-in-person-program-6/\n",
            "Content Preview:\n",
            "MS in Applied Data Science – Information Session (In-Person Program) – DSI Skip to main content About About the Data Science Institute The Data Science Institute (DSI) executes the University of Chicago’s bold, innovative vision of Data Science as a new discipline. Jobs & Opportunities Open faculty, postdoctoral, staff, and student roles with the UChicago Data Science Institute and our partners. Visiting DSI @ UChicago Contact Research Initiatives AI + Science A new paradigm of transformational ...\n",
            "--------------------------------------------------------------------------------\n",
            "\n",
            "URL: https://datascience.uchicago.edu/education/masters-programs/online-program/\n",
            "Content Preview:\n",
            "Online Program – DSI Skip to main content About About the Data Science Institute The Data Science Institute (DSI) executes the University of Chicago’s bold, innovative vision of Data Science as a new discipline. Jobs & Opportunities Open faculty, postdoctoral, staff, and student roles with the UChicago Data Science Institute and our partners. Visiting DSI @ UChicago Contact Research Initiatives AI + Science A new paradigm of transformational AI-enabled scientific discovery across the physical an...\n",
            "--------------------------------------------------------------------------------\n",
            "\n",
            "URL: https://datascience.uchicago.edu/education/masters-programs/ms-in-applied-data-science/online-program/%20\n",
            "Content Preview:\n",
            "Online Program – DSI Skip to main content About About the Data Science Institute The Data Science Institute (DSI) executes the University of Chicago’s bold, innovative vision of Data Science as a new discipline. Jobs & Opportunities Open faculty, postdoctoral, staff, and student roles with the UChicago Data Science Institute and our partners. Visiting DSI @ UChicago Contact Research Initiatives AI + Science A new paradigm of transformational AI-enabled scientific discovery across the physical an...\n",
            "--------------------------------------------------------------------------------\n",
            "\n",
            "URL: https://datascience.uchicago.edu/outreach/preceptors/\n",
            "Content Preview:\n",
            "Preceptors in Data Science – DSI Skip to main content About About the Data Science Institute The Data Science Institute (DSI) executes the University of Chicago’s bold, innovative vision of Data Science as a new discipline. Jobs & Opportunities Open faculty, postdoctoral, staff, and student roles with the UChicago Data Science Institute and our partners. Visiting DSI @ UChicago Contact Research Initiatives AI + Science A new paradigm of transformational AI-enabled scientific discovery across the...\n",
            "--------------------------------------------------------------------------------\n",
            "\n",
            "URL: https://datascience.uchicago.edu/education/undergrad-major/\n",
            "Content Preview:\n",
            "Undergraduate Data Science Major – DSI Skip to main content About About the Data Science Institute The Data Science Institute (DSI) executes the University of Chicago’s bold, innovative vision of Data Science as a new discipline. Jobs & Opportunities Open faculty, postdoctoral, staff, and student roles with the UChicago Data Science Institute and our partners. Visiting DSI @ UChicago Contact Research Initiatives AI + Science A new paradigm of transformational AI-enabled scientific discovery acro...\n",
            "--------------------------------------------------------------------------------\n",
            "\n",
            "URL: https://datascience.uchicago.edu/education/masters-programs/ms-in-applied-data-science/\n",
            "Content Preview:\n",
            "Master’s in Applied Data Science – DSI Skip to main content About About the Data Science Institute The Data Science Institute (DSI) executes the University of Chicago’s bold, innovative vision of Data Science as a new discipline. Jobs & Opportunities Open faculty, postdoctoral, staff, and student roles with the UChicago Data Science Institute and our partners. Visiting DSI @ UChicago Contact Research Initiatives AI + Science A new paradigm of transformational AI-enabled scientific discovery acro...\n",
            "--------------------------------------------------------------------------------\n",
            "\n",
            "URL: https://datascience.uchicago.edu\n",
            "Content Preview:\n",
            "DSI – Data Science Institute – University of Chicago Skip to main content About About the Data Science Institute The Data Science Institute (DSI) executes the University of Chicago’s bold, innovative vision of Data Science as a new discipline. Jobs & Opportunities Open faculty, postdoctoral, staff, and student roles with the UChicago Data Science Institute and our partners. Visiting DSI @ UChicago Contact Research Initiatives AI + Science A new paradigm of transformational AI-enabled scientific ...\n",
            "--------------------------------------------------------------------------------\n",
            "\n",
            "URL: https://datascience.uchicago.edu/about/research-advisory-committee/\n",
            "Content Preview:\n",
            "Research Advisory Committee – DSI Skip to main content About About the Data Science Institute The Data Science Institute (DSI) executes the University of Chicago’s bold, innovative vision of Data Science as a new discipline. Jobs & Opportunities Open faculty, postdoctoral, staff, and student roles with the UChicago Data Science Institute and our partners. Visiting DSI @ UChicago Contact Research Initiatives AI + Science A new paradigm of transformational AI-enabled scientific discovery across th...\n",
            "--------------------------------------------------------------------------------\n",
            "\n",
            "URL: https://datascience.uchicago.edu/events/ai-science-summer-school-2025/\n",
            "Content Preview:\n",
            "AI+Science Summer School 2025 – DSI Skip to main content About About the Data Science Institute The Data Science Institute (DSI) executes the University of Chicago’s bold, innovative vision of Data Science as a new discipline. Jobs & Opportunities Open faculty, postdoctoral, staff, and student roles with the UChicago Data Science Institute and our partners. Visiting DSI @ UChicago Contact Research Initiatives AI + Science A new paradigm of transformational AI-enabled scientific discovery across ...\n",
            "--------------------------------------------------------------------------------\n",
            "\n",
            "URL: https://datascience.uchicago.edu/people/affiliated-faculty/\n",
            "Content Preview:\n",
            "Affiliated Faculty – DSI Skip to main content About About the Data Science Institute The Data Science Institute (DSI) executes the University of Chicago’s bold, innovative vision of Data Science as a new discipline. Jobs & Opportunities Open faculty, postdoctoral, staff, and student roles with the UChicago Data Science Institute and our partners. Visiting DSI @ UChicago Contact Research Initiatives AI + Science A new paradigm of transformational AI-enabled scientific discovery across the physica...\n",
            "--------------------------------------------------------------------------------\n",
            "\n",
            "URL: https://datascience.uchicago.edu/education/masters-programs/ms-in-applied-data-science/events-deadlines/\n",
            "Content Preview:\n",
            "Events & Deadlines – DSI Skip to main content About About the Data Science Institute The Data Science Institute (DSI) executes the University of Chicago’s bold, innovative vision of Data Science as a new discipline. Jobs & Opportunities Open faculty, postdoctoral, staff, and student roles with the UChicago Data Science Institute and our partners. Visiting DSI @ UChicago Contact Research Initiatives AI + Science A new paradigm of transformational AI-enabled scientific discovery across the physica...\n",
            "--------------------------------------------------------------------------------\n",
            "\n",
            "URL: https://datascience.uchicago.edu/fellows-and-scholars/\n",
            "Content Preview:\n",
            "Postdoctoral Scholars – DSI Skip to main content About About the Data Science Institute The Data Science Institute (DSI) executes the University of Chicago’s bold, innovative vision of Data Science as a new discipline. Jobs & Opportunities Open faculty, postdoctoral, staff, and student roles with the UChicago Data Science Institute and our partners. Visiting DSI @ UChicago Contact Research Initiatives AI + Science A new paradigm of transformational AI-enabled scientific discovery across the phys...\n",
            "--------------------------------------------------------------------------------\n",
            "\n",
            "URL: https://datascience.uchicago.edu/research/research-funding/\n",
            "Content Preview:\n",
            "Research Funding Opportunities – DSI Skip to main content About About the Data Science Institute The Data Science Institute (DSI) executes the University of Chicago’s bold, innovative vision of Data Science as a new discipline. Jobs & Opportunities Open faculty, postdoctoral, staff, and student roles with the UChicago Data Science Institute and our partners. Visiting DSI @ UChicago Contact Research Initiatives AI + Science A new paradigm of transformational AI-enabled scientific discovery across...\n",
            "--------------------------------------------------------------------------------\n",
            "\n",
            "URL: https://datascience.uchicago.edu/research/outlier-research-evaluation/\n",
            "Content Preview:\n",
            "Outlier Research & Evaluation – DSI Skip to main content About About the Data Science Institute The Data Science Institute (DSI) executes the University of Chicago’s bold, innovative vision of Data Science as a new discipline. Jobs & Opportunities Open faculty, postdoctoral, staff, and student roles with the UChicago Data Science Institute and our partners. Visiting DSI @ UChicago Contact Research Initiatives AI + Science A new paradigm of transformational AI-enabled scientific discovery across ...\n",
            "--------------------------------------------------------------------------------\n",
            "\n",
            "URL: https://datascience.uchicago.edu/research/projects/\n",
            "Content Preview:\n",
            "Projects – DSI Skip to main content About About the Data Science Institute The Data Science Institute (DSI) executes the University of Chicago’s bold, innovative vision of Data Science as a new discipline. Jobs & Opportunities Open faculty, postdoctoral, staff, and student roles with the UChicago Data Science Institute and our partners. Visiting DSI @ UChicago Contact Research Initiatives AI + Science A new paradigm of transformational AI-enabled scientific discovery across the physical and biol...\n",
            "--------------------------------------------------------------------------------\n",
            "\n",
            "URL: https://datascience.uchicago.edu/education/\n",
            "Content Preview:\n",
            "Education – DSI Skip to main content About About the Data Science Institute The Data Science Institute (DSI) executes the University of Chicago’s bold, innovative vision of Data Science as a new discipline. Jobs & Opportunities Open faculty, postdoctoral, staff, and student roles with the UChicago Data Science Institute and our partners. Visiting DSI @ UChicago Contact Research Initiatives AI + Science A new paradigm of transformational AI-enabled scientific discovery across the physical and bio...\n",
            "--------------------------------------------------------------------------------\n",
            "\n",
            "URL: https://datascience.uchicago.edu/news/uchicago-alums-talk-careers-in-data-science-for-social-good-at-parliament-data/\n",
            "Content Preview:\n",
            "UChicago Alums Talk Careers in Data Science for Social Good at Parliament Data – DSI Skip to main content About About the Data Science Institute The Data Science Institute (DSI) executes the University of Chicago’s bold, innovative vision of Data Science as a new discipline. Jobs & Opportunities Open faculty, postdoctoral, staff, and student roles with the UChicago Data Science Institute and our partners. Visiting DSI @ UChicago Contact Research Initiatives AI + Science A new paradigm of transfo...\n",
            "--------------------------------------------------------------------------------\n",
            "\n",
            "URL: https://datascience.uchicago.edu/news/schmidt-ai-in-science-fellowship-seminar-series-highlights-ai-for-scientific-discovery/\n",
            "Content Preview:\n",
            "Schmidt AI in Science Fellowship Seminar Series Highlights AI for Scientific Discovery – DSI Skip to main content About About the Data Science Institute The Data Science Institute (DSI) executes the University of Chicago’s bold, innovative vision of Data Science as a new discipline. Jobs & Opportunities Open faculty, postdoctoral, staff, and student roles with the UChicago Data Science Institute and our partners. Visiting DSI @ UChicago Contact Research Initiatives AI + Science A new paradigm of...\n",
            "--------------------------------------------------------------------------------\n",
            "\n",
            "URL: https://datascience.uchicago.edu/education/masters-programs/\n",
            "Content Preview:\n",
            "Master’s Programs – DSI Skip to main content About About the Data Science Institute The Data Science Institute (DSI) executes the University of Chicago’s bold, innovative vision of Data Science as a new discipline. Jobs & Opportunities Open faculty, postdoctoral, staff, and student roles with the UChicago Data Science Institute and our partners. Visiting DSI @ UChicago Contact Research Initiatives AI + Science A new paradigm of transformational AI-enabled scientific discovery across the physical...\n",
            "--------------------------------------------------------------------------------\n",
            "\n",
            "URL: https://datascience.uchicago.edu/research/ai-science/\n",
            "Content Preview:\n",
            "AI + Science – DSI Skip to main content About About the Data Science Institute The Data Science Institute (DSI) executes the University of Chicago’s bold, innovative vision of Data Science as a new discipline. Jobs & Opportunities Open faculty, postdoctoral, staff, and student roles with the UChicago Data Science Institute and our partners. Visiting DSI @ UChicago Contact Research Initiatives AI + Science A new paradigm of transformational AI-enabled scientific discovery across the physical and ...\n",
            "--------------------------------------------------------------------------------\n",
            "\n",
            "URL: https://datascience.uchicago.edu/research/data-democracy/\n",
            "Content Preview:\n",
            "Data & Democracy – DSI Skip to main content About About the Data Science Institute The Data Science Institute (DSI) executes the University of Chicago’s bold, innovative vision of Data Science as a new discipline. Jobs & Opportunities Open faculty, postdoctoral, staff, and student roles with the UChicago Data Science Institute and our partners. Visiting DSI @ UChicago Contact Research Initiatives AI + Science A new paradigm of transformational AI-enabled scientific discovery across the physical ...\n",
            "--------------------------------------------------------------------------------\n",
            "\n",
            "URL: https://datascience.uchicago.edu/research/data-science-software-development-core/\n",
            "Content Preview:\n",
            "Data Science Software Development Core – DSI Skip to main content About About the Data Science Institute The Data Science Institute (DSI) executes the University of Chicago’s bold, innovative vision of Data Science as a new discipline. Jobs & Opportunities Open faculty, postdoctoral, staff, and student roles with the UChicago Data Science Institute and our partners. Visiting DSI @ UChicago Contact Research Initiatives AI + Science A new paradigm of transformational AI-enabled scientific discover...\n",
            "--------------------------------------------------------------------------------\n",
            "\n",
            "URL: https://datascience.uchicago.edu/about/about-dsi/\n",
            "Content Preview:\n",
            "The UChicago Data Science Institute – DSI Skip to main content About About the Data Science Institute The Data Science Institute (DSI) executes the University of Chicago’s bold, innovative vision of Data Science as a new discipline. Jobs & Opportunities Open faculty, postdoctoral, staff, and student roles with the UChicago Data Science Institute and our partners. Visiting DSI @ UChicago Contact Research Initiatives AI + Science A new paradigm of transformational AI-enabled scientific discovery a...\n",
            "--------------------------------------------------------------------------------\n",
            "\n",
            "URL: https://datascience.uchicago.edu/outreach/data4all/\n",
            "Content Preview:\n",
            "Data4All High School Bridge Workshop – DSI Skip to main content About About the Data Science Institute The Data Science Institute (DSI) executes the University of Chicago’s bold, innovative vision of Data Science as a new discipline. Jobs & Opportunities Open faculty, postdoctoral, staff, and student roles with the UChicago Data Science Institute and our partners. Visiting DSI @ UChicago Contact Research Initiatives AI + Science A new paradigm of transformational AI-enabled scientific discovery ...\n",
            "--------------------------------------------------------------------------------\n",
            "\n",
            "URL: https://datascience.uchicago.edu/news/congratulations-to-outgoing-eric-and-wendy-schmidt-ai-in-science-fellows/\n",
            "Content Preview:\n",
            "Congratulations to Outgoing Eric and Wendy Schmidt AI in Science Fellows – DSI Skip to main content About About the Data Science Institute The Data Science Institute (DSI) executes the University of Chicago’s bold, innovative vision of Data Science as a new discipline. Jobs & Opportunities Open faculty, postdoctoral, staff, and student roles with the UChicago Data Science Institute and our partners. Visiting DSI @ UChicago Contact Research Initiatives AI + Science A new paradigm of transformatio...\n",
            "--------------------------------------------------------------------------------\n",
            "\n",
            "URL: https://datascience.uchicago.edu/insights/\n",
            "Content Preview:\n",
            "Insights – DSI Skip to main content About About the Data Science Institute The Data Science Institute (DSI) executes the University of Chicago’s bold, innovative vision of Data Science as a new discipline. Jobs & Opportunities Open faculty, postdoctoral, staff, and student roles with the UChicago Data Science Institute and our partners. Visiting DSI @ UChicago Contact Research Initiatives AI + Science A new paradigm of transformational AI-enabled scientific discovery across the physical and biol...\n",
            "--------------------------------------------------------------------------------\n",
            "\n",
            "URL: https://datascience.uchicago.edu/insights/data-ecology-faculty-co-director-bridget-fahey-writes-about-congressional-authority-over-government-data/\n",
            "Content Preview:\n",
            "Data Ecology Faculty Co-Director Bridget Fahey Writes About Congressional Authority Over Government Data – DSI Skip to main content About About the Data Science Institute The Data Science Institute (DSI) executes the University of Chicago’s bold, innovative vision of Data Science as a new discipline. Jobs & Opportunities Open faculty, postdoctoral, staff, and student roles with the UChicago Data Science Institute and our partners. Visiting DSI @ UChicago Contact Research Initiatives AI + Science...\n",
            "--------------------------------------------------------------------------------\n",
            "\n",
            "URL: https://datascience.uchicago.edu/about/\n",
            "Content Preview:\n",
            "About – DSI Skip to main content About About the Data Science Institute The Data Science Institute (DSI) executes the University of Chicago’s bold, innovative vision of Data Science as a new discipline. Jobs & Opportunities Open faculty, postdoctoral, staff, and student roles with the UChicago Data Science Institute and our partners. Visiting DSI @ UChicago Contact Research Initiatives AI + Science A new paradigm of transformational AI-enabled scientific discovery across the physical and biologi...\n",
            "--------------------------------------------------------------------------------\n",
            "\n",
            "URL: https://datascience.uchicago.edu/news-events/news/\n",
            "Content Preview:\n",
            "News – DSI Skip to main content About About the Data Science Institute The Data Science Institute (DSI) executes the University of Chicago’s bold, innovative vision of Data Science as a new discipline. Jobs & Opportunities Open faculty, postdoctoral, staff, and student roles with the UChicago Data Science Institute and our partners. Visiting DSI @ UChicago Contact Research Initiatives AI + Science A new paradigm of transformational AI-enabled scientific discovery across the physical and biologic...\n",
            "--------------------------------------------------------------------------------\n",
            "\n",
            "URL: https://datascience.uchicago.edu/how-to-apply/\n",
            "Content Preview:\n",
            "How to Apply – DSI Skip to main content About About the Data Science Institute The Data Science Institute (DSI) executes the University of Chicago’s bold, innovative vision of Data Science as a new discipline. Jobs & Opportunities Open faculty, postdoctoral, staff, and student roles with the UChicago Data Science Institute and our partners. Visiting DSI @ UChicago Contact Research Initiatives AI + Science A new paradigm of transformational AI-enabled scientific discovery across the physical and ...\n",
            "--------------------------------------------------------------------------------\n",
            "\n",
            "URL: https://datascience.uchicago.edu/outreach/industry-partnerships/\n",
            "Content Preview:\n",
            "Industry Partnerships – DSI Skip to main content About About the Data Science Institute The Data Science Institute (DSI) executes the University of Chicago’s bold, innovative vision of Data Science as a new discipline. Jobs & Opportunities Open faculty, postdoctoral, staff, and student roles with the UChicago Data Science Institute and our partners. Visiting DSI @ UChicago Contact Research Initiatives AI + Science A new paradigm of transformational AI-enabled scientific discovery across the phys...\n",
            "--------------------------------------------------------------------------------\n",
            "\n",
            "URL: https://datascience.uchicago.edu/about-us/\n",
            "Content Preview:\n",
            "Faculty, Instructors, Staff – DSI Skip to main content About About the Data Science Institute The Data Science Institute (DSI) executes the University of Chicago’s bold, innovative vision of Data Science as a new discipline. Jobs & Opportunities Open faculty, postdoctoral, staff, and student roles with the UChicago Data Science Institute and our partners. Visiting DSI @ UChicago Contact Research Initiatives AI + Science A new paradigm of transformational AI-enabled scientific discovery across th...\n",
            "--------------------------------------------------------------------------------\n",
            "\n",
            "URL: https://datascience.uchicago.edu/education/phd-in-data-science/\n",
            "Content Preview:\n",
            "PhD in Data Science – DSI Skip to main content About About the Data Science Institute The Data Science Institute (DSI) executes the University of Chicago’s bold, innovative vision of Data Science as a new discipline. Jobs & Opportunities Open faculty, postdoctoral, staff, and student roles with the UChicago Data Science Institute and our partners. Visiting DSI @ UChicago Contact Research Initiatives AI + Science A new paradigm of transformational AI-enabled scientific discovery across the physic...\n",
            "--------------------------------------------------------------------------------\n",
            "\n",
            "URL: https://datascience.uchicago.edu/capstone-projects/\n",
            "Content Preview:\n",
            "Capstone Projects – DSI Skip to main content About About the Data Science Institute The Data Science Institute (DSI) executes the University of Chicago’s bold, innovative vision of Data Science as a new discipline. Jobs & Opportunities Open faculty, postdoctoral, staff, and student roles with the UChicago Data Science Institute and our partners. Visiting DSI @ UChicago Contact Research Initiatives AI + Science A new paradigm of transformational AI-enabled scientific discovery across the physical...\n",
            "--------------------------------------------------------------------------------\n",
            "\n",
            "URL: https://datascience.uchicago.edu/news/moderation-at-the-crossroads-how-generative-ai-platforms-manage-creativity-and-content-safety/\n",
            "Content Preview:\n",
            "Moderation at the Crossroads: How Generative AI Platforms Manage Creativity and Content Safety – DSI Skip to main content About About the Data Science Institute The Data Science Institute (DSI) executes the University of Chicago’s bold, innovative vision of Data Science as a new discipline. Jobs & Opportunities Open faculty, postdoctoral, staff, and student roles with the UChicago Data Science Institute and our partners. Visiting DSI @ UChicago Contact Research Initiatives AI + Science A new par...\n",
            "--------------------------------------------------------------------------------\n",
            "\n",
            "URL: https://datascience.uchicago.edu/news-events/events/\n",
            "Content Preview:\n",
            "Events – DSI Skip to main content About About the Data Science Institute The Data Science Institute (DSI) executes the University of Chicago’s bold, innovative vision of Data Science as a new discipline. Jobs & Opportunities Open faculty, postdoctoral, staff, and student roles with the UChicago Data Science Institute and our partners. Visiting DSI @ UChicago Contact Research Initiatives AI + Science A new paradigm of transformational AI-enabled scientific discovery across the physical and biolog...\n",
            "--------------------------------------------------------------------------------\n",
            "\n",
            "URL: https://datascience.uchicago.edu/education/masters-programs/ms-in-applied-data-science/faqs/\n",
            "Content Preview:\n",
            "FAQs – DSI Skip to main content About About the Data Science Institute The Data Science Institute (DSI) executes the University of Chicago’s bold, innovative vision of Data Science as a new discipline. Jobs & Opportunities Open faculty, postdoctoral, staff, and student roles with the UChicago Data Science Institute and our partners. Visiting DSI @ UChicago Contact Research Initiatives AI + Science A new paradigm of transformational AI-enabled scientific discovery across the physical and biologic...\n",
            "--------------------------------------------------------------------------------\n",
            "\n",
            "URL: https://datascience.uchicago.edu/research/postdoctoral-programs/\n",
            "Content Preview:\n",
            "Postdoctoral Programs – DSI Skip to main content About About the Data Science Institute The Data Science Institute (DSI) executes the University of Chicago’s bold, innovative vision of Data Science as a new discipline. Jobs & Opportunities Open faculty, postdoctoral, staff, and student roles with the UChicago Data Science Institute and our partners. Visiting DSI @ UChicago Contact Research Initiatives AI + Science A new paradigm of transformational AI-enabled scientific discovery across the phys...\n",
            "--------------------------------------------------------------------------------\n",
            "\n",
            "URL: https://datascience.uchicago.edu/outreach/community-data-fellows/\n",
            "Content Preview:\n",
            "Community Data Fellows – DSI Skip to main content About About the Data Science Institute The Data Science Institute (DSI) executes the University of Chicago’s bold, innovative vision of Data Science as a new discipline. Jobs & Opportunities Open faculty, postdoctoral, staff, and student roles with the UChicago Data Science Institute and our partners. Visiting DSI @ UChicago Contact Research Initiatives AI + Science A new paradigm of transformational AI-enabled scientific discovery across the phy...\n",
            "--------------------------------------------------------------------------------\n",
            "\n",
            "URL: https://datascience.uchicago.edu/research/novel-intelligence/\n",
            "Content Preview:\n",
            "Novel Intelligence – DSI Skip to main content About About the Data Science Institute The Data Science Institute (DSI) executes the University of Chicago’s bold, innovative vision of Data Science as a new discipline. Jobs & Opportunities Open faculty, postdoctoral, staff, and student roles with the UChicago Data Science Institute and our partners. Visiting DSI @ UChicago Contact Research Initiatives AI + Science A new paradigm of transformational AI-enabled scientific discovery across the physica...\n",
            "--------------------------------------------------------------------------------\n",
            "\n",
            "URL: https://datascience.uchicago.edu/education/summer-research-programs/\n",
            "Content Preview:\n",
            "Summer Research Programs – DSI Skip to main content About About the Data Science Institute The Data Science Institute (DSI) executes the University of Chicago’s bold, innovative vision of Data Science as a new discipline. Jobs & Opportunities Open faculty, postdoctoral, staff, and student roles with the UChicago Data Science Institute and our partners. Visiting DSI @ UChicago Contact Research Initiatives AI + Science A new paradigm of transformational AI-enabled scientific discovery across the p...\n",
            "--------------------------------------------------------------------------------\n",
            "\n",
            "URL: https://datascience.uchicago.edu/outreach/data-science-for-social-impact-network/\n",
            "Content Preview:\n",
            "Data Science for Social Impact Network – DSI Skip to main content About About the Data Science Institute The Data Science Institute (DSI) executes the University of Chicago’s bold, innovative vision of Data Science as a new discipline. Jobs & Opportunities Open faculty, postdoctoral, staff, and student roles with the UChicago Data Science Institute and our partners. Visiting DSI @ UChicago Contact Research Initiatives AI + Science A new paradigm of transformational AI-enabled scientific discover...\n",
            "--------------------------------------------------------------------------------\n",
            "\n",
            "URL: https://datascience.uchicago.edu/events/autumn-2025-data-science-clinic-information-session/\n",
            "Content Preview:\n",
            "Autumn 2025 Data Science Clinic Information Session – DSI Skip to main content About About the Data Science Institute The Data Science Institute (DSI) executes the University of Chicago’s bold, innovative vision of Data Science as a new discipline. Jobs & Opportunities Open faculty, postdoctoral, staff, and student roles with the UChicago Data Science Institute and our partners. Visiting DSI @ UChicago Contact Research Initiatives AI + Science A new paradigm of transformational AI-enabled scient...\n",
            "--------------------------------------------------------------------------------\n",
            "\n",
            "URL: https://datascience.uchicago.edu/research/aice-ai-for-climate/\n",
            "Content Preview:\n",
            "AICE: AI for Climate – DSI Skip to main content About About the Data Science Institute The Data Science Institute (DSI) executes the University of Chicago’s bold, innovative vision of Data Science as a new discipline. Jobs & Opportunities Open faculty, postdoctoral, staff, and student roles with the UChicago Data Science Institute and our partners. Visiting DSI @ UChicago Contact Research Initiatives AI + Science A new paradigm of transformational AI-enabled scientific discovery across the physi...\n",
            "--------------------------------------------------------------------------------\n",
            "\n",
            "URL: https://datascience.uchicago.edu/about/contact/\n",
            "Content Preview:\n",
            "Contact – DSI Skip to main content About About the Data Science Institute The Data Science Institute (DSI) executes the University of Chicago’s bold, innovative vision of Data Science as a new discipline. Jobs & Opportunities Open faculty, postdoctoral, staff, and student roles with the UChicago Data Science Institute and our partners. Visiting DSI @ UChicago Contact Research Initiatives AI + Science A new paradigm of transformational AI-enabled scientific discovery across the physical and biolo...\n",
            "--------------------------------------------------------------------------------\n",
            "\n"
          ]
        }
      ],
      "source": [
        "# check scraping\n",
        "for url, text in scraped_data.items():\n",
        "    print(f\"URL: {url}\\nContent Preview:\\n{text[:500]}...\\n{'-'*80}\\n\")"
      ]
    },
    {
      "cell_type": "code",
      "execution_count": 9,
      "metadata": {
        "id": "tafjiE5WlXk6"
      },
      "outputs": [],
      "source": [
        "output_file = \"/content/uchicago_ads_scraped.json\"\n",
        "with open(output_file, \"w\", encoding=\"utf-8\") as f:\n",
        "    json.dump(scraped_data, f, indent=2, ensure_ascii=False)"
      ]
    }
  ],
  "metadata": {
    "accelerator": "GPU",
    "colab": {
      "gpuType": "T4",
      "provenance": []
    },
    "kernelspec": {
      "display_name": "Python 3",
      "name": "python3"
    },
    "language_info": {
      "name": "python"
    }
  },
  "nbformat": 4,
  "nbformat_minor": 0
}
